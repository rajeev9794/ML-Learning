{
 "cells": [
  {
   "cell_type": "code",
   "execution_count": 1,
   "metadata": {},
   "outputs": [],
   "source": [
    "# This is starting of the project with github workspace and copilot."
   ]
  },
  {
   "cell_type": "code",
   "execution_count": 2,
   "metadata": {},
   "outputs": [
    {
     "name": "stdout",
     "output_type": "stream",
     "text": [
      "Welcome to github workspace\n"
     ]
    }
   ],
   "source": [
    "print(\"Welcome to github workspace\")"
   ]
  },
  {
   "cell_type": "code",
   "execution_count": 3,
   "metadata": {},
   "outputs": [],
   "source": [
    "# q: What is Machine Learning?\n",
    "# a: Machine learning is the study of computer algorithms that improve automatically through experience and by the use of data. It is seen as a subset of artificial intelligence.\n",
    "\n",
    "# q: What is two types of machine learning?\n",
    "# a: 1. Supervised Learning\n",
    "# a: 2. Unsupervised Learning\n"
   ]
  },
  {
   "attachments": {},
   "cell_type": "markdown",
   "metadata": {},
   "source": [
    "# What is supervised learning?"
   ]
  },
  {
   "cell_type": "code",
   "execution_count": null,
   "metadata": {},
   "outputs": [],
   "source": [
    "# q: What is supervised learning?\n",
    "# a: Supervised learning is the machine learning task of learning a function that maps an input to an output based on example input-output pairs. It infers a function from labeled training data consisting of a set of training examples.\n",
    "\n",
    "# q: Example of supervised learning?\n",
    "# a: 1. Classification\n",
    "# a: 2. Regression\n",
    "# a: 3. Anomaly detection\n",
    "# a: 4. Sequence labeling\n",
    "# a: 5. Ranking\n",
    "# a: 6. Recommender system\n",
    "# a: 7. Spam filtering\n",
    "# a: 8. Sentiment analysis\n",
    "# a: 9. Image recognition\n",
    "# a: 10. Machine translation\n",
    "# a: 11. Object detection\n",
    "# a: 12. Activity recognition\n",
    "# a: 13. Face recognition\n",
    "# a: 14. Learning to rank\n",
    "# a: 15. Optical character recognition\n",
    "# a: 16. DNA sequence identification\n",
    "# a: 17. Regression testing\n",
    "# a: 18. Learning to rank\n",
    "# a: 19. Optical character recognition\n",
    "# a: 20. DNA sequence identification\n",
    "# a: 21. Regression testing\n",
    "\n",
    "# q: Give some sample example of supervised learning?\n",
    "# a: 1. Predicting house price\n",
    "#    - https://www.kaggle.com/c/house-prices-advanced-regression-techniques\n",
    "# a: 2. Predicting stock price\n",
    "# a: 3. Predicting weather\n",
    "# a: 4. Predicting sales\n",
    "# a: 5. Predicting customer churn\n",
    "# a: 6. Predicting customer lifetime value"
   ]
  },
  {
   "cell_type": "code",
   "execution_count": null,
   "metadata": {},
   "outputs": [],
   "source": [
    "# q: How to create a supervised learning model?\n",
    "# a: 1. Collect data\n",
    "# a: 2. Prepare data\n",
    "# a: 3. Choose a model\n",
    "# a: 4. Train the model\n",
    "# a: 5. Evaluate the model\n",
    "# a: 6. Parameter tuning\n",
    "# a: 7. Prediction\n",
    "# a: 8. Deploy\n",
    "# a: 9. Monitor\n",
    "# a: 10. Retrain\n",
    "# a: 11. Repeat\n",
    "# a: 12. Retrain\n",
    "# a: 13. Repeat"
   ]
  },
  {
   "cell_type": "code",
   "execution_count": null,
   "metadata": {},
   "outputs": [],
   "source": [
    "\n",
    "# q: What is label and feature?\n",
    "# a: 1. Label: The variable we are predicting is called label.\n",
    "# a: 2. Feature: A feature is an input variable—the x variable in simple linear regression. A simple machine learning project might use a single feature, while a more sophisticated machine learning project could use millions of features, specified as:\n",
    "# a: 3. Feature: A feature is an input variable—the x variable in simple linear regression. A simple machine learning project might use a single feature, while a more sophisticated machine learning project could use millions of features, specified as:\n",
    "'''\n",
    "    - 1. Numeric values: 1, 2.5, 100\n",
    "    - 2. Categorical values: \"red\", \"green\", \"blue\"\n",
    "    - 3. Images\n",
    "    - 4. Text\n",
    "    - 5. Audio\n",
    "    - 6. Video\n",
    "    - 7. Other more complex types\n",
    "'''\n"
   ]
  },
  {
   "attachments": {},
   "cell_type": "markdown",
   "metadata": {},
   "source": [
    "# What is Unsupervised Learning?"
   ]
  },
  {
   "cell_type": "code",
   "execution_count": null,
   "metadata": {},
   "outputs": [],
   "source": []
  }
 ],
 "metadata": {
  "kernelspec": {
   "display_name": "Python 3",
   "language": "python",
   "name": "python3"
  },
  "language_info": {
   "codemirror_mode": {
    "name": "ipython",
    "version": 3
   },
   "file_extension": ".py",
   "mimetype": "text/x-python",
   "name": "python",
   "nbconvert_exporter": "python",
   "pygments_lexer": "ipython3",
   "version": "3.10.8"
  },
  "orig_nbformat": 4
 },
 "nbformat": 4,
 "nbformat_minor": 2
}
